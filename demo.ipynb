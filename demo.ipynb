{
 "cells": [
  {
   "cell_type": "code",
   "execution_count": 1,
   "id": "7cd7e642",
   "metadata": {
    "ExecuteTime": {
     "end_time": "2022-08-19T13:28:08.602909Z",
     "start_time": "2022-08-19T13:28:08.059150Z"
    }
   },
   "outputs": [],
   "source": [
    "import os\n",
    "import random\n",
    "import shutil\n",
    "\n",
    "import matplotlib.pyplot as plt\n",
    "import pandas as pd\n",
    "import requests\n",
    "from bs4 import BeautifulSoup"
   ]
  },
  {
   "cell_type": "code",
   "execution_count": 2,
   "id": "d2ed61b5",
   "metadata": {
    "ExecuteTime": {
     "end_time": "2022-08-19T13:28:08.606738Z",
     "start_time": "2022-08-19T13:28:08.604249Z"
    }
   },
   "outputs": [],
   "source": [
    "def download_image(img_url, storage_path):\n",
    "    img_url = img.attrs[\"src\"]\n",
    "    filename = img_url.split(\"/\")[-1]\n",
    "    image_path = os.path.join(storage_path, \"images\", filename)\n",
    "    r = requests.get(img_url, stream = True)\n",
    "    r.raw.decode_content = True\n",
    "    with open(image_path,'wb') as f:\n",
    "        shutil.copyfileobj(r.raw, f)"
   ]
  },
  {
   "cell_type": "code",
   "execution_count": 3,
   "id": "d50bb061",
   "metadata": {
    "ExecuteTime": {
     "end_time": "2022-08-19T13:28:08.619982Z",
     "start_time": "2022-08-19T13:28:08.607903Z"
    }
   },
   "outputs": [],
   "source": [
    "url = \"https://dorianlazar.medium.com/scraping-medium-with-python-beautiful-soup-3314f898bbf5\""
   ]
  },
  {
   "cell_type": "code",
   "execution_count": 4,
   "id": "a91d3d12",
   "metadata": {
    "ExecuteTime": {
     "end_time": "2022-08-19T13:28:08.813337Z",
     "start_time": "2022-08-19T13:28:08.621114Z"
    }
   },
   "outputs": [],
   "source": [
    "response = requests.get(url)"
   ]
  },
  {
   "cell_type": "code",
   "execution_count": 5,
   "id": "1551106e",
   "metadata": {
    "ExecuteTime": {
     "end_time": "2022-08-19T13:28:08.839175Z",
     "start_time": "2022-08-19T13:28:08.814615Z"
    }
   },
   "outputs": [],
   "source": [
    "soup = BeautifulSoup(response.content, 'html.parser')"
   ]
  },
  {
   "cell_type": "markdown",
   "id": "bc22f8d7",
   "metadata": {},
   "source": [
    "# Title"
   ]
  },
  {
   "cell_type": "code",
   "execution_count": 6,
   "id": "bf591b51",
   "metadata": {
    "ExecuteTime": {
     "end_time": "2022-08-19T13:05:08.378252Z",
     "start_time": "2022-08-19T13:05:08.340849Z"
    }
   },
   "outputs": [
    {
     "data": {
      "text/plain": [
       "'Scraping Medium with Python & Beautiful Soup'"
      ]
     },
     "execution_count": 6,
     "metadata": {},
     "output_type": "execute_result"
    }
   ],
   "source": [
    "title = soup.find_all(class_=\"pw-post-title\")[0].text\n",
    "title"
   ]
  },
  {
   "cell_type": "markdown",
   "id": "d0aade87",
   "metadata": {},
   "source": [
    "# Subtitle"
   ]
  },
  {
   "cell_type": "code",
   "execution_count": 7,
   "id": "4c982d38",
   "metadata": {
    "ExecuteTime": {
     "end_time": "2022-08-19T13:05:08.940600Z",
     "start_time": "2022-08-19T13:05:08.909898Z"
    }
   },
   "outputs": [
    {
     "data": {
      "text/plain": [
       "'Extract data about 6K+ articles from 7 different publications'"
      ]
     },
     "execution_count": 7,
     "metadata": {},
     "output_type": "execute_result"
    }
   ],
   "source": [
    "subtitle = soup.find_all(class_=\"pw-subtitle-paragraph\")[0].text\n",
    "subtitle"
   ]
  },
  {
   "cell_type": "markdown",
   "id": "0af1d73b",
   "metadata": {},
   "source": [
    "# Author"
   ]
  },
  {
   "cell_type": "markdown",
   "id": "399349d2",
   "metadata": {},
   "source": [
    "## Name"
   ]
  },
  {
   "cell_type": "code",
   "execution_count": 12,
   "id": "d3042348",
   "metadata": {
    "ExecuteTime": {
     "end_time": "2022-08-19T13:08:29.323261Z",
     "start_time": "2022-08-19T13:08:29.317151Z"
    }
   },
   "outputs": [
    {
     "data": {
      "text/plain": [
       "'Dorian Lazar'"
      ]
     },
     "execution_count": 12,
     "metadata": {},
     "output_type": "execute_result"
    }
   ],
   "source": [
    "author_name = soup.find_all(class_=\"pw-author-name\")[0].text\n",
    "author_name"
   ]
  },
  {
   "cell_type": "markdown",
   "id": "e5b4edc0",
   "metadata": {},
   "source": [
    "## Image"
   ]
  },
  {
   "cell_type": "code",
   "execution_count": 19,
   "id": "fdd47553",
   "metadata": {
    "ExecuteTime": {
     "end_time": "2022-08-19T13:11:40.684652Z",
     "start_time": "2022-08-19T13:11:40.675338Z"
    }
   },
   "outputs": [
    {
     "data": {
      "text/plain": [
       "'https://miro.medium.com/fit/c/96/96/2*qkWZmMZGDCEpvLnlvoG5Pw.jpeg'"
      ]
     },
     "execution_count": 19,
     "metadata": {},
     "output_type": "execute_result"
    }
   ],
   "source": [
    "author_image_url = soup.find_all(class_=\"l dp\")[0].img.attrs[\"src\"]\n",
    "author_image_url"
   ]
  },
  {
   "cell_type": "markdown",
   "id": "c8eed1d9",
   "metadata": {},
   "source": [
    "# Images"
   ]
  },
  {
   "cell_type": "code",
   "execution_count": 11,
   "id": "e9c793e9",
   "metadata": {
    "ExecuteTime": {
     "end_time": "2022-08-19T13:06:00.895836Z",
     "start_time": "2022-08-19T13:06:00.600266Z"
    }
   },
   "outputs": [],
   "source": [
    "images = soup.find_all(\"img\", class_=\"cf\")\n",
    "storage_path = f\".\"\n",
    "for img in images:\n",
    "    download_image(img_url=img.attrs[\"src\"], storage_path=storage_path)"
   ]
  },
  {
   "cell_type": "markdown",
   "id": "30b36034",
   "metadata": {},
   "source": [
    "# Paragraphs"
   ]
  },
  {
   "cell_type": "code",
   "execution_count": null,
   "id": "0dd0b4fc",
   "metadata": {},
   "outputs": [],
   "source": []
  }
 ],
 "metadata": {
  "kernelspec": {
   "display_name": "Python 3 (ipykernel)",
   "language": "python",
   "name": "python3"
  },
  "language_info": {
   "codemirror_mode": {
    "name": "ipython",
    "version": 3
   },
   "file_extension": ".py",
   "mimetype": "text/x-python",
   "name": "python",
   "nbconvert_exporter": "python",
   "pygments_lexer": "ipython3",
   "version": "3.10.4"
  },
  "toc": {
   "base_numbering": 1,
   "nav_menu": {},
   "number_sections": true,
   "sideBar": true,
   "skip_h1_title": false,
   "title_cell": "Table of Contents",
   "title_sidebar": "Contents",
   "toc_cell": false,
   "toc_position": {},
   "toc_section_display": true,
   "toc_window_display": false
  }
 },
 "nbformat": 4,
 "nbformat_minor": 5
}
